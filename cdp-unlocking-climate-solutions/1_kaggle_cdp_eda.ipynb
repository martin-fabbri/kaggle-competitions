{
  "nbformat": 4,
  "nbformat_minor": 0,
  "metadata": {
    "colab": {
      "name": "1-kaggle-cdp-eda.ipynb",
      "provenance": [],
      "collapsed_sections": [],
      "authorship_tag": "ABX9TyMUyrJIVzHjczRcBbPom3Ak",
      "include_colab_link": true
    },
    "kernelspec": {
      "name": "python3",
      "display_name": "Python 3"
    }
  },
  "cells": [
    {
      "cell_type": "markdown",
      "metadata": {
        "id": "view-in-github",
        "colab_type": "text"
      },
      "source": [
        "<a href=\"https://colab.research.google.com/github/martin-fabbri/kaggle-competitions/blob/main/cdp-unlocking-climate-solutions/1_kaggle_cdp_eda.ipynb\" target=\"_parent\"><img src=\"https://colab.research.google.com/assets/colab-badge.svg\" alt=\"Open In Colab\"/></a>"
      ]
    },
    {
      "cell_type": "markdown",
      "metadata": {
        "id": "hAFRPyu8KlQM"
      },
      "source": [
        "## Imports"
      ]
    },
    {
      "cell_type": "markdown",
      "metadata": {
        "id": "rM1MNdrsNGIy"
      },
      "source": [
        "Install Basemap"
      ]
    },
    {
      "cell_type": "code",
      "metadata": {
        "id": "ACJSzC34MCYA",
        "outputId": "90e96b6e-f80b-4425-af26-83916687a886",
        "colab": {
          "base_uri": "https://localhost:8080/",
          "height": 505
        }
      },
      "source": [
        "!apt-get install libgeos-3.5.0\n",
        "!apt-get install libgeos-dev\n",
        "!pip install https://github.com/matplotlib/basemap/archive/master.zip"
      ],
      "execution_count": 25,
      "outputs": [
        {
          "output_type": "stream",
          "text": [
            "Reading package lists... Done\n",
            "Building dependency tree       \n",
            "Reading state information... Done\n",
            "E: Unable to locate package libgeos-3.5.0\n",
            "E: Couldn't find any package by glob 'libgeos-3.5.0'\n",
            "E: Couldn't find any package by regex 'libgeos-3.5.0'\n",
            "Reading package lists... Done\n",
            "Building dependency tree       \n",
            "Reading state information... Done\n",
            "libgeos-dev is already the newest version (3.6.2-1build2).\n",
            "0 upgraded, 0 newly installed, 0 to remove and 21 not upgraded.\n",
            "Collecting https://github.com/matplotlib/basemap/archive/master.zip\n",
            "  Using cached https://github.com/matplotlib/basemap/archive/master.zip\n",
            "Requirement already satisfied (use --upgrade to upgrade): basemap==1.2.1 from https://github.com/matplotlib/basemap/archive/master.zip in /usr/local/lib/python3.6/dist-packages\n",
            "Requirement already satisfied: matplotlib!=3.0.1,>=1.0.0 in /usr/local/lib/python3.6/dist-packages (from basemap==1.2.1) (3.2.2)\n",
            "Requirement already satisfied: numpy>=1.2.1 in /usr/local/lib/python3.6/dist-packages (from basemap==1.2.1) (1.18.5)\n",
            "Requirement already satisfied: pyproj>=1.9.3 in /usr/local/lib/python3.6/dist-packages (from basemap==1.2.1) (2.6.1.post1)\n",
            "Requirement already satisfied: pyshp>=1.2.0 in /usr/local/lib/python3.6/dist-packages (from basemap==1.2.1) (2.1.2)\n",
            "Requirement already satisfied: six in /usr/local/lib/python3.6/dist-packages (from basemap==1.2.1) (1.15.0)\n",
            "Requirement already satisfied: kiwisolver>=1.0.1 in /usr/local/lib/python3.6/dist-packages (from matplotlib!=3.0.1,>=1.0.0->basemap==1.2.1) (1.2.0)\n",
            "Requirement already satisfied: python-dateutil>=2.1 in /usr/local/lib/python3.6/dist-packages (from matplotlib!=3.0.1,>=1.0.0->basemap==1.2.1) (2.8.1)\n",
            "Requirement already satisfied: pyparsing!=2.0.4,!=2.1.2,!=2.1.6,>=2.0.1 in /usr/local/lib/python3.6/dist-packages (from matplotlib!=3.0.1,>=1.0.0->basemap==1.2.1) (2.4.7)\n",
            "Requirement already satisfied: cycler>=0.10 in /usr/local/lib/python3.6/dist-packages (from matplotlib!=3.0.1,>=1.0.0->basemap==1.2.1) (0.10.0)\n",
            "Building wheels for collected packages: basemap\n",
            "  Building wheel for basemap (setup.py) ... \u001b[?25l\u001b[?25hdone\n",
            "  Created wheel for basemap: filename=basemap-1.2.1-cp36-cp36m-linux_x86_64.whl size=121756177 sha256=a2a8d721e7c3d857951faee06f012be61aaa9ff7bc94d64e9b014949589a76f4\n",
            "  Stored in directory: /tmp/pip-ephem-wheel-cache-mau96j5j/wheels/98/4a/fc/ce719b75d97e646645c225f3332b1b217536100314922e9572\n",
            "Successfully built basemap\n"
          ],
          "name": "stdout"
        }
      ]
    },
    {
      "cell_type": "markdown",
      "metadata": {
        "id": "C_c1bli4NLYV"
      },
      "source": [
        "Install geopandas"
      ]
    },
    {
      "cell_type": "code",
      "metadata": {
        "id": "mwauIbwdNZGv",
        "outputId": "54686035-ecc4-4e95-c9ac-d7e6daa161dc",
        "colab": {
          "base_uri": "https://localhost:8080/",
          "height": 251
        }
      },
      "source": [
        "!pip install --upgrade geopandas"
      ],
      "execution_count": 26,
      "outputs": [
        {
          "output_type": "stream",
          "text": [
            "Requirement already up-to-date: geopandas in /usr/local/lib/python3.6/dist-packages (0.8.1)\n",
            "Requirement already satisfied, skipping upgrade: fiona in /usr/local/lib/python3.6/dist-packages (from geopandas) (1.8.17)\n",
            "Requirement already satisfied, skipping upgrade: pandas>=0.23.0 in /usr/local/lib/python3.6/dist-packages (from geopandas) (1.1.2)\n",
            "Requirement already satisfied, skipping upgrade: pyproj>=2.2.0 in /usr/local/lib/python3.6/dist-packages (from geopandas) (2.6.1.post1)\n",
            "Requirement already satisfied, skipping upgrade: shapely in /usr/local/lib/python3.6/dist-packages (from geopandas) (1.7.1)\n",
            "Requirement already satisfied, skipping upgrade: six>=1.7 in /usr/local/lib/python3.6/dist-packages (from fiona->geopandas) (1.15.0)\n",
            "Requirement already satisfied, skipping upgrade: cligj>=0.5 in /usr/local/lib/python3.6/dist-packages (from fiona->geopandas) (0.5.0)\n",
            "Requirement already satisfied, skipping upgrade: click<8,>=4.0 in /usr/local/lib/python3.6/dist-packages (from fiona->geopandas) (7.1.2)\n",
            "Requirement already satisfied, skipping upgrade: attrs>=17 in /usr/local/lib/python3.6/dist-packages (from fiona->geopandas) (20.2.0)\n",
            "Requirement already satisfied, skipping upgrade: click-plugins>=1.0 in /usr/local/lib/python3.6/dist-packages (from fiona->geopandas) (1.1.1)\n",
            "Requirement already satisfied, skipping upgrade: munch in /usr/local/lib/python3.6/dist-packages (from fiona->geopandas) (2.5.0)\n",
            "Requirement already satisfied, skipping upgrade: pytz>=2017.2 in /usr/local/lib/python3.6/dist-packages (from pandas>=0.23.0->geopandas) (2018.9)\n",
            "Requirement already satisfied, skipping upgrade: numpy>=1.15.4 in /usr/local/lib/python3.6/dist-packages (from pandas>=0.23.0->geopandas) (1.18.5)\n",
            "Requirement already satisfied, skipping upgrade: python-dateutil>=2.7.3 in /usr/local/lib/python3.6/dist-packages (from pandas>=0.23.0->geopandas) (2.8.1)\n"
          ],
          "name": "stdout"
        }
      ]
    },
    {
      "cell_type": "code",
      "metadata": {
        "id": "5jNQnAhoIb5I",
        "outputId": "4474d037-6078-4e3a-ab59-3c31039659c3",
        "colab": {
          "base_uri": "https://localhost:8080/",
          "height": 33
        }
      },
      "source": [
        "# data processing libs\n",
        "import os\n",
        "import pandas as pd\n",
        "import numpy as np\n",
        "import matplotlib.pyplot as plt\n",
        "import re\n",
        "import json\n",
        "\n",
        "# plotting libs\n",
        "import seaborn as sns\n",
        "import plotly.graph_objects as go\n",
        "import plotly.express as px\n",
        "\n",
        "# set inline plotly\n",
        "from plotly.offline import init_notebook_mode;\n",
        "init_notebook_mode(connected=True)\n",
        "\n",
        "# geospatial libs\n",
        "from mpl_toolkits.basemap import Basemap\n",
        "from shapely.geometry import Polygon\n",
        "import geopandas as gpd\n",
        "import folium\n",
        "print(f'geopandas: {gpd.__version__}')\n"
      ],
      "execution_count": 27,
      "outputs": [
        {
          "output_type": "display_data",
          "data": {
            "text/html": [
              "        <script type=\"text/javascript\">\n",
              "        window.PlotlyConfig = {MathJaxConfig: 'local'};\n",
              "        if (window.MathJax) {MathJax.Hub.Config({SVG: {font: \"STIX-Web\"}});}\n",
              "        if (typeof require !== 'undefined') {\n",
              "        require.undef(\"plotly\");\n",
              "        requirejs.config({\n",
              "            paths: {\n",
              "                'plotly': ['https://cdn.plot.ly/plotly-latest.min']\n",
              "            }\n",
              "        });\n",
              "        require(['plotly'], function(Plotly) {\n",
              "            window._Plotly = Plotly;\n",
              "        });\n",
              "        }\n",
              "        </script>\n",
              "        "
            ]
          },
          "metadata": {
            "tags": []
          }
        },
        {
          "output_type": "stream",
          "text": [
            "geopandas: 0.8.1\n"
          ],
          "name": "stdout"
        }
      ]
    },
    {
      "cell_type": "markdown",
      "metadata": {
        "id": "W3nCn_klO3wu"
      },
      "source": [
        "## Data\n",
        "\n",
        "### Import Data"
      ]
    },
    {
      "cell_type": "code",
      "metadata": {
        "id": "PjpjnNVcRMv5",
        "outputId": "9ce5841e-6988-4416-c6a1-7aeefa9ffcdd",
        "colab": {
          "base_uri": "https://localhost:8080/",
          "height": 1000
        }
      },
      "source": [
        "!pip install --upgrade --force-reinstall --no-deps kaggle\n",
        "from google.colab import drive\n",
        "drive.mount('/content/gdrive')\n",
        "!mkdir -p ~/.kaggle\n",
        "!cp /content/gdrive/My\\ Drive/kaggle/kaggle.json ~/.kaggle/kaggle.json\n",
        "!chmod 600 ~/.kaggle/kaggle.json\n",
        "!kaggle competitions download -c cdp-unlocking-climate-solutions\n",
        "!ls -l /content\n",
        "!unzip -o /content/cdp-unlocking-climate-solutions.zip"
      ],
      "execution_count": 28,
      "outputs": [
        {
          "output_type": "stream",
          "text": [
            "Processing /root/.cache/pip/wheels/94/a7/09/68dc83c7c14fdbdf5d3f2b2da5b87e587bfc1e85df69b1130c/kaggle-1.5.8-cp36-none-any.whl\n",
            "Installing collected packages: kaggle\n",
            "  Found existing installation: kaggle 1.5.8\n",
            "    Uninstalling kaggle-1.5.8:\n",
            "      Successfully uninstalled kaggle-1.5.8\n",
            "Successfully installed kaggle-1.5.8\n",
            "Drive already mounted at /content/gdrive; to attempt to forcibly remount, call drive.mount(\"/content/gdrive\", force_remount=True).\n",
            "cdp-unlocking-climate-solutions.zip: Skipping, found more recently modified local copy (use --force to force download)\n",
            "total 251128\n",
            "-rw-r--r-- 1 root root 257130814 Oct 15 22:13  cdp-unlocking-climate-solutions.zip\n",
            "drwxr-xr-x 5 root root      4096 Oct 15 22:13  Cities\n",
            "drwxr-xr-x 5 root root      4096 Oct 15 22:13  Corporations\n",
            "drwx------ 5 root root      4096 Oct 15 22:13  gdrive\n",
            "drwxr-xr-x 1 root root      4096 Oct 14 16:31  sample_data\n",
            "drwxr-xr-x 9 root root      4096 Oct 15 22:13 'Supplementary Data'\n",
            "Archive:  /content/cdp-unlocking-climate-solutions.zip\n",
            "  inflating: Cities/Cities Disclosing/2018_Cities_Disclosing_to_CDP.csv  \n",
            "  inflating: Cities/Cities Disclosing/2019_Cities_Disclosing_to_CDP.csv  \n",
            "  inflating: Cities/Cities Disclosing/2020_Cities_Disclosing_to_CDP.csv  \n",
            "  inflating: Cities/Cities Disclosing/Cities_Disclosing_to_CDP_Data_Dictionary.csv  \n",
            "  inflating: Cities/Cities Questionnaires/2018_Cities_Questionnaire.pdf  \n",
            "  inflating: Cities/Cities Questionnaires/2019_Cities_Questionnaire.pdf  \n",
            "  inflating: Cities/Cities Questionnaires/2020_Cities_Questionnaire.pdf  \n",
            "  inflating: Cities/Cities Responses/2018_Full_Cities_Dataset.csv  \n",
            "  inflating: Cities/Cities Responses/2019_Full_Cities_Dataset.csv  \n",
            "  inflating: Cities/Cities Responses/2020_Full_Cities_Dataset.csv  \n",
            "  inflating: Cities/Cities Responses/Full_Cities_Response_Data_Dictionary.csv  \n",
            "  inflating: Corporations/Corporations Disclosing/Climate Change/2018_Corporates_Disclosing_to_CDP_Climate_Change.csv  \n",
            "  inflating: Corporations/Corporations Disclosing/Climate Change/2019_Corporates_Disclosing_to_CDP_Climate_Change.csv  \n",
            "  inflating: Corporations/Corporations Disclosing/Climate Change/2020_Corporates_Disclosing_to_CDP_Climate_Change.csv  \n",
            "  inflating: Corporations/Corporations Disclosing/Climate Change/Corporations_Disclosing_to_CDP_Data_Dictionary.csv  \n",
            "  inflating: Corporations/Corporations Disclosing/Water Security/2018_Corporates_Disclosing_to_CDP_Water_Security.csv  \n",
            "  inflating: Corporations/Corporations Disclosing/Water Security/2019_Corporates_Disclosing_to_CDP_Water_Security.csv  \n",
            "  inflating: Corporations/Corporations Disclosing/Water Security/2020_Corporates_Disclosing_to_CDP_Water_Security.csv  \n",
            "  inflating: Corporations/Corporations Disclosing/Water Security/Corporations_Disclosing_to_CDP_Data_Dictionary.csv  \n",
            "  inflating: Corporations/Corporations Questionnaires/Climate Change/2018_Climate_Change_Questionnaire.pdf  \n",
            "  inflating: Corporations/Corporations Questionnaires/Climate Change/2019_Climate_Change_Questionnaire.pdf  \n",
            "  inflating: Corporations/Corporations Questionnaires/Climate Change/2020_Climate_Change_Questionnaire.pdf  \n",
            "  inflating: Corporations/Corporations Questionnaires/Climate Change/CDP-climate-change-changes-document.pdf  \n",
            "  inflating: Corporations/Corporations Questionnaires/Water Security/2018_Water_Security_Questionnaire.pdf  \n",
            "  inflating: Corporations/Corporations Questionnaires/Water Security/2019_Water_Security_Questionnaire.pdf  \n",
            "  inflating: Corporations/Corporations Questionnaires/Water Security/2020_Water_Security_Questionnaire.pdf  \n",
            "  inflating: Corporations/Corporations Questionnaires/Water Security/CDP-water-changes-document.pdf  \n",
            "  inflating: Corporations/Corporations Responses/Climate Change/2018_Full_Climate_Change_Dataset.csv  \n",
            "  inflating: Corporations/Corporations Responses/Climate Change/2019_Full_Climate_Change_Dataset.csv  \n",
            "  inflating: Corporations/Corporations Responses/Climate Change/2020_Full_Climate_Change_Dataset.csv  \n",
            "  inflating: Corporations/Corporations Responses/Climate Change/Full_Corporations_Response_Data_Dictionary copy.csv  \n",
            "  inflating: Corporations/Corporations Responses/Water Security/2018_Full_Water_Security_Dataset.csv  \n",
            "  inflating: Corporations/Corporations Responses/Water Security/2019_Full_Water_Security_Dataset.csv  \n",
            "  inflating: Corporations/Corporations Responses/Water Security/2020_Full_Water_Security_Dataset.csv  \n",
            "  inflating: Corporations/Corporations Responses/Water Security/Full_Corporations_Response_Data_Dictionary.csv  \n",
            "  inflating: Supplementary Data/CDC 500 Cities Census Tract Data/500_Cities__Census_Tract-level_Data__GIS_Friendly_Format___2019_release.csv  \n",
            "  inflating: Supplementary Data/CDC Social Vulnerability Index 2018/SVI2018_US.csv  \n",
            "  inflating: Supplementary Data/CDC Social Vulnerability Index 2018/SVI2018_US_COUNTY.csv  \n",
            "  inflating: Supplementary Data/Dataset Licenses/CDP_dataset_licenses.txt  \n",
            "  inflating: Supplementary Data/Dataset Licenses/Supplementary_dataset_licenses.txt  \n",
            "  inflating: Supplementary Data/Locations of Corporations/NA_HQ_public_data.csv  \n",
            "  inflating: Supplementary Data/NYC CDP Census Tract Shapefiles/nyu_2451_34505.dbf  \n",
            "  inflating: Supplementary Data/NYC CDP Census Tract Shapefiles/nyu_2451_34505.prj  \n",
            "  inflating: Supplementary Data/NYC CDP Census Tract Shapefiles/nyu_2451_34505.shp  \n",
            "  inflating: Supplementary Data/NYC CDP Census Tract Shapefiles/nyu_2451_34505.shx  \n",
            "  inflating: Supplementary Data/NYC CDP Census Tract Shapefiles/nyu_2451_34505_iso.xml  \n",
            "  inflating: Supplementary Data/Recommendations from CDP/CDP_recommendations_for_questions_to_focus_on.xlsx  \n",
            "  inflating: Supplementary Data/Recommendations from CDP/CDP_recommendations_for_supplementary_datasets_to_include.xlsx  \n",
            "  inflating: Supplementary Data/Simple Maps US Cities Data/uscities.csv  \n"
          ],
          "name": "stdout"
        }
      ]
    },
    {
      "cell_type": "code",
      "metadata": {
        "id": "HI1wOWydO3I4",
        "outputId": "8c7cb24f-397e-4ad2-d6a0-36f5b64c95be",
        "colab": {
          "base_uri": "https://localhost:8080/",
          "height": 84
        }
      },
      "source": [
        "# import corporate response data\n",
        "cc_df = pd.read_csv('/content/Corporations/Corporations Responses/Climate Change/2019_Full_Climate_Change_Dataset.csv')\n",
        "ws_df = pd.read_csv('/content/Corporations/Corporations Responses/Water Security/2019_Full_Water_Security_Dataset.csv')"
      ],
      "execution_count": 29,
      "outputs": [
        {
          "output_type": "stream",
          "text": [
            "/usr/local/lib/python3.6/dist-packages/IPython/core/interactiveshell.py:2718: DtypeWarning:\n",
            "\n",
            "Columns (19) have mixed types.Specify dtype option on import or set low_memory=False.\n",
            "\n"
          ],
          "name": "stderr"
        }
      ]
    },
    {
      "cell_type": "code",
      "metadata": {
        "id": "QPtgT0yGWcHK"
      },
      "source": [
        "# import cities response df\n",
        "cities_df = pd.read_csv(\"/content/Cities/Cities Responses/2020_Full_Cities_Dataset.csv\")"
      ],
      "execution_count": 30,
      "outputs": []
    },
    {
      "cell_type": "code",
      "metadata": {
        "id": "5ryD9iTpWcNN"
      },
      "source": [
        "# external data - import CDC social vulnerability index data - census\n",
        "svi_df = pd.read_csv(\"/content/Supplementary Data/CDC Social Vulnerability Index 2018/SVI2018_US.csv\")"
      ],
      "execution_count": 31,
      "outputs": []
    },
    {
      "cell_type": "code",
      "metadata": {
        "id": "rMT48h7ZWcKQ"
      },
      "source": [
        "# cities metadata - lat,lon locations for US cities\n",
        "cities_meta_df = pd.read_csv(\"/content/Supplementary Data/Simple Maps US Cities Data/uscities.csv\")\n",
        "\n",
        "# cities metadata - CDP metadata on organisation HQ cities\n",
        "cities_cdpmeta_df = pd.read_csv(\"/content/Supplementary Data/Locations of Corporations/NA_HQ_public_data.csv\")"
      ],
      "execution_count": 32,
      "outputs": []
    },
    {
      "cell_type": "markdown",
      "metadata": {
        "id": "ROE0f77wYMO4"
      },
      "source": [
        "### Helpers"
      ]
    },
    {
      "cell_type": "code",
      "metadata": {
        "id": "Oy9ndKo0Wb6F"
      },
      "source": [
        "def list_dedupe(x):\n",
        "  \"\"\"\n",
        "  Convert list to dict and back to list to dedupe\n",
        "\n",
        "  Parameters\n",
        "  ----------\n",
        "  x: list\n",
        "      Python list object\n",
        "\n",
        "  Returns\n",
        "  -------\n",
        "  dictionary:\n",
        "    dictionary object with duplicated removed\n",
        "  \"\"\"\n",
        "  return list(dict.fromkeys(x))\n"
      ],
      "execution_count": 33,
      "outputs": []
    },
    {
      "cell_type": "markdown",
      "metadata": {
        "id": "9QrF8UfHbiFK"
      },
      "source": [
        "## Data Cleaning & EDA\n",
        "\n",
        "### Extract City Questionarie Response and map Cities to Organizations\n",
        "\n",
        "- Extract city response data for question 6.2 Does your city collaborate in partnership with businesses in your city on sustainability projects?\n",
        "\n",
        "- Map cities to organisations who are headquartered within that city, using the NA_HQ_public_data.csv meta data file"
      ]
    },
    {
      "cell_type": "code",
      "metadata": {
        "id": "ZUxW2TM7Y28X",
        "outputId": "01afe565-6c35-4a12-c06d-f8032492a55b",
        "colab": {
          "base_uri": "https://localhost:8080/",
          "height": 685
        }
      },
      "source": [
        "cities_6_2 = cities_df[cities_df['Question Number'] == '6.2'].rename(columns={'Organization': 'City'})\n",
        "cities_6_2['Response Answer'] = cities_6_2['Response Answer'].fillna('No Response')\n",
        "cities_6_2.head()"
      ],
      "execution_count": 34,
      "outputs": [
        {
          "output_type": "execute_result",
          "data": {
            "text/html": [
              "<div>\n",
              "<style scoped>\n",
              "    .dataframe tbody tr th:only-of-type {\n",
              "        vertical-align: middle;\n",
              "    }\n",
              "\n",
              "    .dataframe tbody tr th {\n",
              "        vertical-align: top;\n",
              "    }\n",
              "\n",
              "    .dataframe thead th {\n",
              "        text-align: right;\n",
              "    }\n",
              "</style>\n",
              "<table border=\"1\" class=\"dataframe\">\n",
              "  <thead>\n",
              "    <tr style=\"text-align: right;\">\n",
              "      <th></th>\n",
              "      <th>Questionnaire</th>\n",
              "      <th>Year Reported to CDP</th>\n",
              "      <th>Account Number</th>\n",
              "      <th>City</th>\n",
              "      <th>Country</th>\n",
              "      <th>CDP Region</th>\n",
              "      <th>Parent Section</th>\n",
              "      <th>Section</th>\n",
              "      <th>Question Number</th>\n",
              "      <th>Question Name</th>\n",
              "      <th>Column Number</th>\n",
              "      <th>Column Name</th>\n",
              "      <th>Row Number</th>\n",
              "      <th>Row Name</th>\n",
              "      <th>Response Answer</th>\n",
              "      <th>Comments</th>\n",
              "      <th>File Name</th>\n",
              "      <th>Last update</th>\n",
              "    </tr>\n",
              "  </thead>\n",
              "  <tbody>\n",
              "    <tr>\n",
              "      <th>2093</th>\n",
              "      <td>Cities 2020</td>\n",
              "      <td>2020</td>\n",
              "      <td>54538</td>\n",
              "      <td>Bath and North East Somerset</td>\n",
              "      <td>United Kingdom of Great Britain and Northern I...</td>\n",
              "      <td>Europe</td>\n",
              "      <td>Opportunities</td>\n",
              "      <td>Collaboration</td>\n",
              "      <td>6.2</td>\n",
              "      <td>Does your city collaborate in partnership with...</td>\n",
              "      <td>0</td>\n",
              "      <td>NaN</td>\n",
              "      <td>0</td>\n",
              "      <td>NaN</td>\n",
              "      <td>Yes</td>\n",
              "      <td>NaN</td>\n",
              "      <td>NaN</td>\n",
              "      <td>09/07/2020 09:45:36 AM</td>\n",
              "    </tr>\n",
              "    <tr>\n",
              "      <th>2107</th>\n",
              "      <td>Cities 2020</td>\n",
              "      <td>2020</td>\n",
              "      <td>42120</td>\n",
              "      <td>City of Salvador</td>\n",
              "      <td>Brazil</td>\n",
              "      <td>Latin America</td>\n",
              "      <td>Opportunities</td>\n",
              "      <td>Collaboration</td>\n",
              "      <td>6.2</td>\n",
              "      <td>Does your city collaborate in partnership with...</td>\n",
              "      <td>0</td>\n",
              "      <td>NaN</td>\n",
              "      <td>0</td>\n",
              "      <td>NaN</td>\n",
              "      <td>Yes</td>\n",
              "      <td>NaN</td>\n",
              "      <td>NaN</td>\n",
              "      <td>09/07/2020 09:45:36 AM</td>\n",
              "    </tr>\n",
              "    <tr>\n",
              "      <th>2112</th>\n",
              "      <td>Cities 2020</td>\n",
              "      <td>2020</td>\n",
              "      <td>826210</td>\n",
              "      <td>Junta Intermunicipal de Medio Ambiente de la C...</td>\n",
              "      <td>Mexico</td>\n",
              "      <td>Latin America</td>\n",
              "      <td>Opportunities</td>\n",
              "      <td>Collaboration</td>\n",
              "      <td>6.2</td>\n",
              "      <td>Does your city collaborate in partnership with...</td>\n",
              "      <td>0</td>\n",
              "      <td>NaN</td>\n",
              "      <td>0</td>\n",
              "      <td>NaN</td>\n",
              "      <td>Yes</td>\n",
              "      <td>NaN</td>\n",
              "      <td>NaN</td>\n",
              "      <td>09/07/2020 09:45:36 AM</td>\n",
              "    </tr>\n",
              "    <tr>\n",
              "      <th>2594</th>\n",
              "      <td>Cities 2020</td>\n",
              "      <td>2020</td>\n",
              "      <td>37241</td>\n",
              "      <td>City of Berkeley</td>\n",
              "      <td>United States of America</td>\n",
              "      <td>North America</td>\n",
              "      <td>Opportunities</td>\n",
              "      <td>Collaboration</td>\n",
              "      <td>6.2</td>\n",
              "      <td>Does your city collaborate in partnership with...</td>\n",
              "      <td>0</td>\n",
              "      <td>NaN</td>\n",
              "      <td>0</td>\n",
              "      <td>NaN</td>\n",
              "      <td>Yes</td>\n",
              "      <td>NaN</td>\n",
              "      <td>NaN</td>\n",
              "      <td>09/07/2020 09:45:36 AM</td>\n",
              "    </tr>\n",
              "    <tr>\n",
              "      <th>3561</th>\n",
              "      <td>Cities 2020</td>\n",
              "      <td>2020</td>\n",
              "      <td>50549</td>\n",
              "      <td>City of Fort Worth</td>\n",
              "      <td>United States of America</td>\n",
              "      <td>North America</td>\n",
              "      <td>Opportunities</td>\n",
              "      <td>Collaboration</td>\n",
              "      <td>6.2</td>\n",
              "      <td>Does your city collaborate in partnership with...</td>\n",
              "      <td>0</td>\n",
              "      <td>NaN</td>\n",
              "      <td>0</td>\n",
              "      <td>NaN</td>\n",
              "      <td>Yes</td>\n",
              "      <td>NaN</td>\n",
              "      <td>NaN</td>\n",
              "      <td>09/07/2020 09:45:36 AM</td>\n",
              "    </tr>\n",
              "  </tbody>\n",
              "</table>\n",
              "</div>"
            ],
            "text/plain": [
              "     Questionnaire  Year Reported to CDP  ...  File Name             Last update\n",
              "2093   Cities 2020                  2020  ...        NaN  09/07/2020 09:45:36 AM\n",
              "2107   Cities 2020                  2020  ...        NaN  09/07/2020 09:45:36 AM\n",
              "2112   Cities 2020                  2020  ...        NaN  09/07/2020 09:45:36 AM\n",
              "2594   Cities 2020                  2020  ...        NaN  09/07/2020 09:45:36 AM\n",
              "3561   Cities 2020                  2020  ...        NaN  09/07/2020 09:45:36 AM\n",
              "\n",
              "[5 rows x 18 columns]"
            ]
          },
          "metadata": {
            "tags": []
          },
          "execution_count": 34
        }
      ]
    },
    {
      "cell_type": "markdown",
      "metadata": {
        "id": "Wg7OZdwYeXT5"
      },
      "source": [
        "Clean Organization City HQ Metadata"
      ]
    },
    {
      "cell_type": "code",
      "metadata": {
        "id": "kgPbrFdhY3Ci",
        "outputId": "7a32c7e8-92b8-4d65-8364-e0336276ace9",
        "colab": {
          "base_uri": "https://localhost:8080/",
          "height": 240
        }
      },
      "source": [
        "# state abbreviation dictionary\n",
        "us_state_abbrev = {\n",
        "    'Alabama': 'AL',\n",
        "    'Alaska': 'AK',\n",
        "    'American Samoa': 'AS',\n",
        "    'Arizona': 'AZ',\n",
        "    'Arkansas': 'AR',\n",
        "    'California': 'CA',\n",
        "    'Colorado': 'CO',\n",
        "    'Connecticut': 'CT',\n",
        "    'Delaware': 'DE',\n",
        "    'District of Columbia': 'DC',\n",
        "    'Florida': 'FL',\n",
        "    'Georgia': 'GA',\n",
        "    'Guam': 'GU',\n",
        "    'Hawaii': 'HI',\n",
        "    'Idaho': 'ID',\n",
        "    'Illinois': 'IL',\n",
        "    'Indiana': 'IN',\n",
        "    'Iowa': 'IA',\n",
        "    'Kansas': 'KS',\n",
        "    'Kentucky': 'KY',\n",
        "    'Louisiana': 'LA',\n",
        "    'Maine': 'ME',\n",
        "    'Maryland': 'MD',\n",
        "    'Massachusetts': 'MA',\n",
        "    'Michigan': 'MI',\n",
        "    'Minnesota': 'MN',\n",
        "    'Mississippi': 'MS',\n",
        "    'Missouri': 'MO',\n",
        "    'Montana': 'MT',\n",
        "    'Nebraska': 'NE',\n",
        "    'Nevada': 'NV',\n",
        "    'New Hampshire': 'NH',\n",
        "    'New Jersey': 'NJ',\n",
        "    'New Mexico': 'NM',\n",
        "    'New York': 'NY',\n",
        "    'North Carolina': 'NC',\n",
        "    'North Dakota': 'ND',\n",
        "    'Northern Mariana Islands':'MP',\n",
        "    'Ohio': 'OH',\n",
        "    'Oklahoma': 'OK',\n",
        "    'Oregon': 'OR',\n",
        "    'Pennsylvania': 'PA',\n",
        "    'Puerto Rico': 'PR',\n",
        "    'Rhode Island': 'RI',\n",
        "    'South Carolina': 'SC',\n",
        "    'South Dakota': 'SD',\n",
        "    'Tennessee': 'TN',\n",
        "    'Texas': 'TX',\n",
        "    'Utah': 'UT',\n",
        "    'Vermont': 'VT',\n",
        "    'Virgin Islands': 'VI',\n",
        "    'Virginia': 'VA',\n",
        "    'Washington': 'WA',\n",
        "    'West Virginia': 'WV',\n",
        "    'Wisconsin': 'WI',\n",
        "    'Wyoming': 'WY'\n",
        "}\n",
        "\n",
        "# map dict to clean full state names to abbreviations\n",
        "cities_cdpmeta_df['state'] = cities_cdpmeta_df['address_state'].map(us_state_abbrev)\n",
        "# infill non-matched from dict\n",
        "cities_cdpmeta_df['state'] = cities_cdpmeta_df['state'].fillna(cities_cdpmeta_df['address_state'])\n",
        "cities_cdpmeta_df['state'] = cities_cdpmeta_df['state'].replace({'ALBERTA':'AB'})\n",
        "cities_cdpmeta_df['address_city'] = cities_cdpmeta_df['address_city'].replace({'CALGARY':'Calgary'})\n",
        "# cities_cdpmeta_df= cities_cdpmeta_df.drop(columns=['address_state'])\n",
        "\n",
        "# create joint city state variable\n",
        "cities_cdpmeta_df['city_state'] = cities_cdpmeta_df['address_city'].str.cat(cities_cdpmeta_df['state'],sep=\", \")\n",
        "\n",
        "cities_cdpmeta_df.head(3)"
      ],
      "execution_count": 35,
      "outputs": [
        {
          "output_type": "execute_result",
          "data": {
            "text/html": [
              "<div>\n",
              "<style scoped>\n",
              "    .dataframe tbody tr th:only-of-type {\n",
              "        vertical-align: middle;\n",
              "    }\n",
              "\n",
              "    .dataframe tbody tr th {\n",
              "        vertical-align: top;\n",
              "    }\n",
              "\n",
              "    .dataframe thead th {\n",
              "        text-align: right;\n",
              "    }\n",
              "</style>\n",
              "<table border=\"1\" class=\"dataframe\">\n",
              "  <thead>\n",
              "    <tr style=\"text-align: right;\">\n",
              "      <th></th>\n",
              "      <th>account_number</th>\n",
              "      <th>organization</th>\n",
              "      <th>public</th>\n",
              "      <th>invitation_status</th>\n",
              "      <th>request_status</th>\n",
              "      <th>theme</th>\n",
              "      <th>survey_year</th>\n",
              "      <th>survey_name</th>\n",
              "      <th>hq_country</th>\n",
              "      <th>address_city</th>\n",
              "      <th>address_state</th>\n",
              "      <th>address_lat</th>\n",
              "      <th>adress_long</th>\n",
              "      <th>state</th>\n",
              "      <th>city_state</th>\n",
              "    </tr>\n",
              "  </thead>\n",
              "  <tbody>\n",
              "    <tr>\n",
              "      <th>0</th>\n",
              "      <td>58859</td>\n",
              "      <td>Hewlett Packard Enterprise Company</td>\n",
              "      <td>public</td>\n",
              "      <td>Submitted</td>\n",
              "      <td>Submitted</td>\n",
              "      <td>Climate Change</td>\n",
              "      <td>2020</td>\n",
              "      <td>Climate Change 2020</td>\n",
              "      <td>United States of America</td>\n",
              "      <td>San Jose</td>\n",
              "      <td>California</td>\n",
              "      <td>NaN</td>\n",
              "      <td>NaN</td>\n",
              "      <td>CA</td>\n",
              "      <td>San Jose, CA</td>\n",
              "    </tr>\n",
              "    <tr>\n",
              "      <th>1</th>\n",
              "      <td>31831</td>\n",
              "      <td>Bausch Health Cos. Inc.</td>\n",
              "      <td>public</td>\n",
              "      <td>Submitted</td>\n",
              "      <td>Submitted</td>\n",
              "      <td>Climate Change</td>\n",
              "      <td>2020</td>\n",
              "      <td>Climate Change 2020</td>\n",
              "      <td>Canada</td>\n",
              "      <td>Rochester</td>\n",
              "      <td>NY</td>\n",
              "      <td>NaN</td>\n",
              "      <td>NaN</td>\n",
              "      <td>NY</td>\n",
              "      <td>Rochester, NY</td>\n",
              "    </tr>\n",
              "    <tr>\n",
              "      <th>2</th>\n",
              "      <td>40952</td>\n",
              "      <td>BWI Group</td>\n",
              "      <td>public</td>\n",
              "      <td>Submitted</td>\n",
              "      <td>Submitted</td>\n",
              "      <td>Climate Change</td>\n",
              "      <td>2020</td>\n",
              "      <td>Climate Change 2020</td>\n",
              "      <td>China</td>\n",
              "      <td>NaN</td>\n",
              "      <td>NaN</td>\n",
              "      <td>NaN</td>\n",
              "      <td>NaN</td>\n",
              "      <td>NaN</td>\n",
              "      <td>NaN</td>\n",
              "    </tr>\n",
              "  </tbody>\n",
              "</table>\n",
              "</div>"
            ],
            "text/plain": [
              "   account_number                        organization  ... state     city_state\n",
              "0           58859  Hewlett Packard Enterprise Company  ...    CA   San Jose, CA\n",
              "1           31831             Bausch Health Cos. Inc.  ...    NY  Rochester, NY\n",
              "2           40952                           BWI Group  ...   NaN            NaN\n",
              "\n",
              "[3 rows x 15 columns]"
            ]
          },
          "metadata": {
            "tags": []
          },
          "execution_count": 35
        }
      ]
    },
    {
      "cell_type": "markdown",
      "metadata": {
        "id": "hi5f89xqk0Vf"
      },
      "source": [
        "Summarise the cities metadata to count the number organisations (HQ) per city"
      ]
    },
    {
      "cell_type": "code",
      "metadata": {
        "id": "LZ9oJkoxY3Fz",
        "outputId": "b84e5933-a29f-4b5d-c5d1-fdba4a408b51",
        "colab": {
          "base_uri": "https://localhost:8080/",
          "height": 137
        }
      },
      "source": [
        "cities_count = cities_cdpmeta_df[['organization', 'address_city', 'state', 'city_state']]\\\n",
        "  .groupby(['address_city', 'state', 'city_state']).count()\\\n",
        "    .sort_values(by = ['organization'], ascending=False)\\\n",
        "      .reset_index()\\\n",
        "        .rename(columns={'organization': 'num_orgs'})\n",
        "\n",
        "cities_count.head(3)"
      ],
      "execution_count": 36,
      "outputs": [
        {
          "output_type": "execute_result",
          "data": {
            "text/html": [
              "<div>\n",
              "<style scoped>\n",
              "    .dataframe tbody tr th:only-of-type {\n",
              "        vertical-align: middle;\n",
              "    }\n",
              "\n",
              "    .dataframe tbody tr th {\n",
              "        vertical-align: top;\n",
              "    }\n",
              "\n",
              "    .dataframe thead th {\n",
              "        text-align: right;\n",
              "    }\n",
              "</style>\n",
              "<table border=\"1\" class=\"dataframe\">\n",
              "  <thead>\n",
              "    <tr style=\"text-align: right;\">\n",
              "      <th></th>\n",
              "      <th>address_city</th>\n",
              "      <th>state</th>\n",
              "      <th>city_state</th>\n",
              "      <th>num_orgs</th>\n",
              "    </tr>\n",
              "  </thead>\n",
              "  <tbody>\n",
              "    <tr>\n",
              "      <th>0</th>\n",
              "      <td>New York</td>\n",
              "      <td>NY</td>\n",
              "      <td>New York, NY</td>\n",
              "      <td>138</td>\n",
              "    </tr>\n",
              "    <tr>\n",
              "      <th>1</th>\n",
              "      <td>Calgary</td>\n",
              "      <td>AB</td>\n",
              "      <td>Calgary, AB</td>\n",
              "      <td>94</td>\n",
              "    </tr>\n",
              "    <tr>\n",
              "      <th>2</th>\n",
              "      <td>Toronto</td>\n",
              "      <td>ON</td>\n",
              "      <td>Toronto, ON</td>\n",
              "      <td>85</td>\n",
              "    </tr>\n",
              "  </tbody>\n",
              "</table>\n",
              "</div>"
            ],
            "text/plain": [
              "  address_city state    city_state  num_orgs\n",
              "0     New York    NY  New York, NY       138\n",
              "1      Calgary    AB   Calgary, AB        94\n",
              "2      Toronto    ON   Toronto, ON        85"
            ]
          },
          "metadata": {
            "tags": []
          },
          "execution_count": 36
        }
      ]
    },
    {
      "cell_type": "markdown",
      "metadata": {
        "id": "wInZFcX13-Ko"
      },
      "source": [
        "City name conversion\n",
        "\n",
        "- Align City names in CDP City questionarie response data ('City Org') with\n",
        "common city names that may be present in external data sets.\n",
        "- e.g. 'City of Boulder' -> Boulder\n",
        "\n",
        "Note: This data quality control step can also be addressed by using 'City' column in the 2019_Cities_Disclosing_to_CDP.csv dataset.\n"
      ]
    },
    {
      "cell_type": "code",
      "metadata": {
        "id": "m8y3oGL3316j",
        "outputId": "170e7b17-0026-4ba1-de41-84779ab674d8",
        "colab": {
          "base_uri": "https://localhost:8080/",
          "height": 137
        }
      },
      "source": [
        "# conert indexes to columns\n",
        "cities_count.reset_index(inplace=True)\n",
        "cities_count = cities_count.rename(columns= {'index': 'city_id'})\n",
        "\n",
        "cities_count.head(3)"
      ],
      "execution_count": 37,
      "outputs": [
        {
          "output_type": "execute_result",
          "data": {
            "text/html": [
              "<div>\n",
              "<style scoped>\n",
              "    .dataframe tbody tr th:only-of-type {\n",
              "        vertical-align: middle;\n",
              "    }\n",
              "\n",
              "    .dataframe tbody tr th {\n",
              "        vertical-align: top;\n",
              "    }\n",
              "\n",
              "    .dataframe thead th {\n",
              "        text-align: right;\n",
              "    }\n",
              "</style>\n",
              "<table border=\"1\" class=\"dataframe\">\n",
              "  <thead>\n",
              "    <tr style=\"text-align: right;\">\n",
              "      <th></th>\n",
              "      <th>city_id</th>\n",
              "      <th>address_city</th>\n",
              "      <th>state</th>\n",
              "      <th>city_state</th>\n",
              "      <th>num_orgs</th>\n",
              "    </tr>\n",
              "  </thead>\n",
              "  <tbody>\n",
              "    <tr>\n",
              "      <th>0</th>\n",
              "      <td>0</td>\n",
              "      <td>New York</td>\n",
              "      <td>NY</td>\n",
              "      <td>New York, NY</td>\n",
              "      <td>138</td>\n",
              "    </tr>\n",
              "    <tr>\n",
              "      <th>1</th>\n",
              "      <td>1</td>\n",
              "      <td>Calgary</td>\n",
              "      <td>AB</td>\n",
              "      <td>Calgary, AB</td>\n",
              "      <td>94</td>\n",
              "    </tr>\n",
              "    <tr>\n",
              "      <th>2</th>\n",
              "      <td>2</td>\n",
              "      <td>Toronto</td>\n",
              "      <td>ON</td>\n",
              "      <td>Toronto, ON</td>\n",
              "      <td>85</td>\n",
              "    </tr>\n",
              "  </tbody>\n",
              "</table>\n",
              "</div>"
            ],
            "text/plain": [
              "   city_id address_city state    city_state  num_orgs\n",
              "0        0     New York    NY  New York, NY       138\n",
              "1        1      Calgary    AB   Calgary, AB        94\n",
              "2        2      Toronto    ON   Toronto, ON        85"
            ]
          },
          "metadata": {
            "tags": []
          },
          "execution_count": 37
        }
      ]
    },
    {
      "cell_type": "code",
      "metadata": {
        "id": "NOBA2m_4Y2_t",
        "outputId": "ee1220d9-7088-4c74-a9ab-197dbbd53498",
        "colab": {
          "base_uri": "https://localhost:8080/",
          "height": 391
        }
      },
      "source": [
        "cities_df.reset_index(inplace=True)\n",
        "cities_df = cities_df.rename(columns= {'index': 'city_org_id'})\n",
        "cities_df.head(3)"
      ],
      "execution_count": 38,
      "outputs": [
        {
          "output_type": "execute_result",
          "data": {
            "text/html": [
              "<div>\n",
              "<style scoped>\n",
              "    .dataframe tbody tr th:only-of-type {\n",
              "        vertical-align: middle;\n",
              "    }\n",
              "\n",
              "    .dataframe tbody tr th {\n",
              "        vertical-align: top;\n",
              "    }\n",
              "\n",
              "    .dataframe thead th {\n",
              "        text-align: right;\n",
              "    }\n",
              "</style>\n",
              "<table border=\"1\" class=\"dataframe\">\n",
              "  <thead>\n",
              "    <tr style=\"text-align: right;\">\n",
              "      <th></th>\n",
              "      <th>city_org_id</th>\n",
              "      <th>Questionnaire</th>\n",
              "      <th>Year Reported to CDP</th>\n",
              "      <th>Account Number</th>\n",
              "      <th>Organization</th>\n",
              "      <th>Country</th>\n",
              "      <th>CDP Region</th>\n",
              "      <th>Parent Section</th>\n",
              "      <th>Section</th>\n",
              "      <th>Question Number</th>\n",
              "      <th>Question Name</th>\n",
              "      <th>Column Number</th>\n",
              "      <th>Column Name</th>\n",
              "      <th>Row Number</th>\n",
              "      <th>Row Name</th>\n",
              "      <th>Response Answer</th>\n",
              "      <th>Comments</th>\n",
              "      <th>File Name</th>\n",
              "      <th>Last update</th>\n",
              "    </tr>\n",
              "  </thead>\n",
              "  <tbody>\n",
              "    <tr>\n",
              "      <th>0</th>\n",
              "      <td>0</td>\n",
              "      <td>Cities 2020</td>\n",
              "      <td>2020</td>\n",
              "      <td>68296</td>\n",
              "      <td>Hobsons Bay City Council</td>\n",
              "      <td>Australia</td>\n",
              "      <td>Southeast Asia and Oceania</td>\n",
              "      <td>NaN</td>\n",
              "      <td>Transport</td>\n",
              "      <td>10.6</td>\n",
              "      <td>How many buses has your city procured in the l...</td>\n",
              "      <td>2</td>\n",
              "      <td>Comment</td>\n",
              "      <td>5</td>\n",
              "      <td>Plug-in hybrid</td>\n",
              "      <td>Question not applicable</td>\n",
              "      <td>NaN</td>\n",
              "      <td>NaN</td>\n",
              "      <td>09/07/2020 09:45:36 AM</td>\n",
              "    </tr>\n",
              "    <tr>\n",
              "      <th>1</th>\n",
              "      <td>1</td>\n",
              "      <td>Cities 2020</td>\n",
              "      <td>2020</td>\n",
              "      <td>8242</td>\n",
              "      <td>City of Helsinki</td>\n",
              "      <td>Finland</td>\n",
              "      <td>Europe</td>\n",
              "      <td>City-wide Emissions</td>\n",
              "      <td>City-wide GHG Emissions Data</td>\n",
              "      <td>4.6a</td>\n",
              "      <td>The Global Covenant of Mayors requires committ...</td>\n",
              "      <td>1</td>\n",
              "      <td>Direct emissions (metric tonnes CO2e)</td>\n",
              "      <td>6</td>\n",
              "      <td>Stationary energy &gt; Fugitive emissions</td>\n",
              "      <td>NaN</td>\n",
              "      <td>NaN</td>\n",
              "      <td>NaN</td>\n",
              "      <td>09/07/2020 09:45:36 AM</td>\n",
              "    </tr>\n",
              "    <tr>\n",
              "      <th>2</th>\n",
              "      <td>2</td>\n",
              "      <td>Cities 2020</td>\n",
              "      <td>2020</td>\n",
              "      <td>73301</td>\n",
              "      <td>City of Gretna, LA</td>\n",
              "      <td>United States of America</td>\n",
              "      <td>North America</td>\n",
              "      <td>Opportunities</td>\n",
              "      <td>Finance and Economic Opportunities</td>\n",
              "      <td>6.5</td>\n",
              "      <td>List any mitigation, adaptation, water related...</td>\n",
              "      <td>5</td>\n",
              "      <td>Financing model identified</td>\n",
              "      <td>4</td>\n",
              "      <td>NaN</td>\n",
              "      <td>NaN</td>\n",
              "      <td>NaN</td>\n",
              "      <td>NaN</td>\n",
              "      <td>09/07/2020 09:45:36 AM</td>\n",
              "    </tr>\n",
              "  </tbody>\n",
              "</table>\n",
              "</div>"
            ],
            "text/plain": [
              "   city_org_id Questionnaire  ...  File Name             Last update\n",
              "0            0   Cities 2020  ...        NaN  09/07/2020 09:45:36 AM\n",
              "1            1   Cities 2020  ...        NaN  09/07/2020 09:45:36 AM\n",
              "2            2   Cities 2020  ...        NaN  09/07/2020 09:45:36 AM\n",
              "\n",
              "[3 rows x 19 columns]"
            ]
          },
          "metadata": {
            "tags": []
          },
          "execution_count": 38
        }
      ]
    },
    {
      "cell_type": "code",
      "metadata": {
        "id": "VmD8NvCqY25i"
      },
      "source": [
        "# convert id and city label columns into lists\n",
        "if 'city_id' in cities_count.columns:\n",
        "  city_id_no = list_dedupe(cities_count['city_id'].tolist())\n",
        "  city_name = list_dedupe(cities_count['address_city'].tolist())\n",
        "\n",
        "if 'city_org_id' in cities_df.columns:\n",
        "  city_org_id_no = list_dedupe(cities_df['city_org_id'].tolist())\n",
        "  city_org_name = list_dedupe(cities_df['Organization'].tolist())\n",
        "\n",
        "# remove added index column in cities df\n",
        "if 'city_org_id' in cities_df.columns:\n",
        "  cities_df.drop('city_org_id', inplace=True, axis=1)\n",
        "\n",
        "if 'city_id' in cities_count.columns:\n",
        "  cities_count.drop('city_id', inplace=True, axis=1)\n"
      ],
      "execution_count": 39,
      "outputs": []
    },
    {
      "cell_type": "code",
      "metadata": {
        "id": "AmikW8Z5KAxl"
      },
      "source": [
        "city_dict = dict(zip(city_id_no, city_name))\n",
        "city_org_dict = dict(zip(city_org_id_no, city_org_name))"
      ],
      "execution_count": 40,
      "outputs": []
    },
    {
      "cell_type": "code",
      "metadata": {
        "id": "mBL8aFQ3MzBh",
        "outputId": "06a73910-2f18-4c14-9539-e6f863c1b696",
        "colab": {
          "base_uri": "https://localhost:8080/",
          "height": 196
        }
      },
      "source": [
        "city_names_df = pd.DataFrame(columns=['City ID No.', 'address_city', 'City Org ID No.', 'City Org', 'Match'])\n",
        "\n",
        "for ID, seq1 in city_dict.items():\n",
        "  for ID2, seq2, in city_org_dict.items():\n",
        "    m = re.search(seq1, seq2)\n",
        "    if m:\n",
        "      match = m.group()\n",
        "      city_names_df = city_names_df.append({'City ID No.': ID, 'address_city': seq1, 'City Org ID No.': ID2, 'City Org': seq2, 'Match': match}, ignore_index=True)\n",
        "city_names_df = city_names_df.loc[:, ['address_city', 'City Org']]\n",
        "city_names_df.head()"
      ],
      "execution_count": 41,
      "outputs": [
        {
          "output_type": "execute_result",
          "data": {
            "text/html": [
              "<div>\n",
              "<style scoped>\n",
              "    .dataframe tbody tr th:only-of-type {\n",
              "        vertical-align: middle;\n",
              "    }\n",
              "\n",
              "    .dataframe tbody tr th {\n",
              "        vertical-align: top;\n",
              "    }\n",
              "\n",
              "    .dataframe thead th {\n",
              "        text-align: right;\n",
              "    }\n",
              "</style>\n",
              "<table border=\"1\" class=\"dataframe\">\n",
              "  <thead>\n",
              "    <tr style=\"text-align: right;\">\n",
              "      <th></th>\n",
              "      <th>address_city</th>\n",
              "      <th>City Org</th>\n",
              "    </tr>\n",
              "  </thead>\n",
              "  <tbody>\n",
              "    <tr>\n",
              "      <th>0</th>\n",
              "      <td>New York</td>\n",
              "      <td>New York City</td>\n",
              "    </tr>\n",
              "    <tr>\n",
              "      <th>1</th>\n",
              "      <td>Calgary</td>\n",
              "      <td>City of Calgary</td>\n",
              "    </tr>\n",
              "    <tr>\n",
              "      <th>2</th>\n",
              "      <td>Toronto</td>\n",
              "      <td>City of Toronto</td>\n",
              "    </tr>\n",
              "    <tr>\n",
              "      <th>3</th>\n",
              "      <td>Chicago</td>\n",
              "      <td>City of Chicago</td>\n",
              "    </tr>\n",
              "    <tr>\n",
              "      <th>4</th>\n",
              "      <td>Houston</td>\n",
              "      <td>City of Houston</td>\n",
              "    </tr>\n",
              "  </tbody>\n",
              "</table>\n",
              "</div>"
            ],
            "text/plain": [
              "  address_city         City Org\n",
              "0     New York    New York City\n",
              "1      Calgary  City of Calgary\n",
              "2      Toronto  City of Toronto\n",
              "3      Chicago  City of Chicago\n",
              "4      Houston  City of Houston"
            ]
          },
          "metadata": {
            "tags": []
          },
          "execution_count": 41
        }
      ]
    },
    {
      "cell_type": "markdown",
      "metadata": {
        "id": "SnEdc84qZ0M0"
      },
      "source": [
        "Join city_org names to city-org count table\n"
      ]
    },
    {
      "cell_type": "code",
      "metadata": {
        "id": "GlsHLMmLZzgY",
        "outputId": "37e929ff-d172-4427-f441-668e6b9bfd02",
        "colab": {
          "base_uri": "https://localhost:8080/",
          "height": 196
        }
      },
      "source": [
        "cities_count = pd.merge(cities_count, city_names_df, on='address_city', how='left')\n",
        "cities_count.head()"
      ],
      "execution_count": 42,
      "outputs": [
        {
          "output_type": "execute_result",
          "data": {
            "text/html": [
              "<div>\n",
              "<style scoped>\n",
              "    .dataframe tbody tr th:only-of-type {\n",
              "        vertical-align: middle;\n",
              "    }\n",
              "\n",
              "    .dataframe tbody tr th {\n",
              "        vertical-align: top;\n",
              "    }\n",
              "\n",
              "    .dataframe thead th {\n",
              "        text-align: right;\n",
              "    }\n",
              "</style>\n",
              "<table border=\"1\" class=\"dataframe\">\n",
              "  <thead>\n",
              "    <tr style=\"text-align: right;\">\n",
              "      <th></th>\n",
              "      <th>address_city</th>\n",
              "      <th>state</th>\n",
              "      <th>city_state</th>\n",
              "      <th>num_orgs</th>\n",
              "      <th>City Org</th>\n",
              "    </tr>\n",
              "  </thead>\n",
              "  <tbody>\n",
              "    <tr>\n",
              "      <th>0</th>\n",
              "      <td>New York</td>\n",
              "      <td>NY</td>\n",
              "      <td>New York, NY</td>\n",
              "      <td>138</td>\n",
              "      <td>New York City</td>\n",
              "    </tr>\n",
              "    <tr>\n",
              "      <th>1</th>\n",
              "      <td>Calgary</td>\n",
              "      <td>AB</td>\n",
              "      <td>Calgary, AB</td>\n",
              "      <td>94</td>\n",
              "      <td>City of Calgary</td>\n",
              "    </tr>\n",
              "    <tr>\n",
              "      <th>2</th>\n",
              "      <td>Toronto</td>\n",
              "      <td>ON</td>\n",
              "      <td>Toronto, ON</td>\n",
              "      <td>85</td>\n",
              "      <td>City of Toronto</td>\n",
              "    </tr>\n",
              "    <tr>\n",
              "      <th>3</th>\n",
              "      <td>San Jose</td>\n",
              "      <td>CA</td>\n",
              "      <td>San Jose, CA</td>\n",
              "      <td>54</td>\n",
              "      <td>NaN</td>\n",
              "    </tr>\n",
              "    <tr>\n",
              "      <th>4</th>\n",
              "      <td>Chicago</td>\n",
              "      <td>IL</td>\n",
              "      <td>Chicago, IL</td>\n",
              "      <td>45</td>\n",
              "      <td>City of Chicago</td>\n",
              "    </tr>\n",
              "  </tbody>\n",
              "</table>\n",
              "</div>"
            ],
            "text/plain": [
              "  address_city state    city_state  num_orgs         City Org\n",
              "0     New York    NY  New York, NY       138    New York City\n",
              "1      Calgary    AB   Calgary, AB        94  City of Calgary\n",
              "2      Toronto    ON   Toronto, ON        85  City of Toronto\n",
              "3     San Jose    CA  San Jose, CA        54              NaN\n",
              "4      Chicago    IL   Chicago, IL        45  City of Chicago"
            ]
          },
          "metadata": {
            "tags": []
          },
          "execution_count": 42
        }
      ]
    },
    {
      "cell_type": "markdown",
      "metadata": {
        "id": "A_mHhd7Yb0XQ"
      },
      "source": [
        "Join Count of Disclosing Organizations in HQ Cities with Question 6.2 Response dataframe.\n",
        "\n",
        "- Label the response variable as a city's current Sustainability Project \n",
        "Collaboration"
      ]
    },
    {
      "cell_type": "code",
      "metadata": {
        "id": "ZAzPj4DZMyzl"
      },
      "source": [
        "cities_6_2 = cities_6_2[['City', 'Response Answer']].rename(columns={'City': 'City Org'})"
      ],
      "execution_count": 43,
      "outputs": []
    },
    {
      "cell_type": "code",
      "metadata": {
        "id": "Fnb0PQ6Mhoe-",
        "outputId": "1c656570-1ed8-4e23-950e-0a9ca17877c0",
        "colab": {
          "base_uri": "https://localhost:8080/",
          "height": 404
        }
      },
      "source": [
        "cities_count = pd.merge(left=cities_count, right=cities_6_2, how='left', on='City Org').rename(columns={'Response Answer': 'Sustainability Project Collab.'})\n",
        "cities_count['Sustainability Project Collab.'] = cities_count['Sustainability Project Collab.'].fillna('No Response')\n",
        "cities_count"
      ],
      "execution_count": 44,
      "outputs": [
        {
          "output_type": "execute_result",
          "data": {
            "text/html": [
              "<div>\n",
              "<style scoped>\n",
              "    .dataframe tbody tr th:only-of-type {\n",
              "        vertical-align: middle;\n",
              "    }\n",
              "\n",
              "    .dataframe tbody tr th {\n",
              "        vertical-align: top;\n",
              "    }\n",
              "\n",
              "    .dataframe thead th {\n",
              "        text-align: right;\n",
              "    }\n",
              "</style>\n",
              "<table border=\"1\" class=\"dataframe\">\n",
              "  <thead>\n",
              "    <tr style=\"text-align: right;\">\n",
              "      <th></th>\n",
              "      <th>address_city</th>\n",
              "      <th>state</th>\n",
              "      <th>city_state</th>\n",
              "      <th>num_orgs</th>\n",
              "      <th>City Org</th>\n",
              "      <th>Sustainability Project Collab.</th>\n",
              "    </tr>\n",
              "  </thead>\n",
              "  <tbody>\n",
              "    <tr>\n",
              "      <th>0</th>\n",
              "      <td>New York</td>\n",
              "      <td>NY</td>\n",
              "      <td>New York, NY</td>\n",
              "      <td>138</td>\n",
              "      <td>New York City</td>\n",
              "      <td>Yes</td>\n",
              "    </tr>\n",
              "    <tr>\n",
              "      <th>1</th>\n",
              "      <td>Calgary</td>\n",
              "      <td>AB</td>\n",
              "      <td>Calgary, AB</td>\n",
              "      <td>94</td>\n",
              "      <td>City of Calgary</td>\n",
              "      <td>Yes</td>\n",
              "    </tr>\n",
              "    <tr>\n",
              "      <th>2</th>\n",
              "      <td>Toronto</td>\n",
              "      <td>ON</td>\n",
              "      <td>Toronto, ON</td>\n",
              "      <td>85</td>\n",
              "      <td>City of Toronto</td>\n",
              "      <td>Yes</td>\n",
              "    </tr>\n",
              "    <tr>\n",
              "      <th>3</th>\n",
              "      <td>San Jose</td>\n",
              "      <td>CA</td>\n",
              "      <td>San Jose, CA</td>\n",
              "      <td>54</td>\n",
              "      <td>NaN</td>\n",
              "      <td>No Response</td>\n",
              "    </tr>\n",
              "    <tr>\n",
              "      <th>4</th>\n",
              "      <td>Chicago</td>\n",
              "      <td>IL</td>\n",
              "      <td>Chicago, IL</td>\n",
              "      <td>45</td>\n",
              "      <td>City of Chicago</td>\n",
              "      <td>Yes</td>\n",
              "    </tr>\n",
              "    <tr>\n",
              "      <th>...</th>\n",
              "      <td>...</td>\n",
              "      <td>...</td>\n",
              "      <td>...</td>\n",
              "      <td>...</td>\n",
              "      <td>...</td>\n",
              "      <td>...</td>\n",
              "    </tr>\n",
              "    <tr>\n",
              "      <th>345</th>\n",
              "      <td>Johnstown</td>\n",
              "      <td>PA</td>\n",
              "      <td>Johnstown, PA</td>\n",
              "      <td>1</td>\n",
              "      <td>NaN</td>\n",
              "      <td>No Response</td>\n",
              "    </tr>\n",
              "    <tr>\n",
              "      <th>346</th>\n",
              "      <td>Rosemont</td>\n",
              "      <td>IL</td>\n",
              "      <td>Rosemont, IL</td>\n",
              "      <td>1</td>\n",
              "      <td>NaN</td>\n",
              "      <td>No Response</td>\n",
              "    </tr>\n",
              "    <tr>\n",
              "      <th>347</th>\n",
              "      <td>Bowling Green</td>\n",
              "      <td>KY</td>\n",
              "      <td>Bowling Green, KY</td>\n",
              "      <td>1</td>\n",
              "      <td>NaN</td>\n",
              "      <td>No Response</td>\n",
              "    </tr>\n",
              "    <tr>\n",
              "      <th>348</th>\n",
              "      <td>Rochester</td>\n",
              "      <td>NY</td>\n",
              "      <td>Rochester, NY</td>\n",
              "      <td>1</td>\n",
              "      <td>City of Rochester</td>\n",
              "      <td>Yes</td>\n",
              "    </tr>\n",
              "    <tr>\n",
              "      <th>349</th>\n",
              "      <td>Dublin</td>\n",
              "      <td>CA</td>\n",
              "      <td>Dublin, CA</td>\n",
              "      <td>1</td>\n",
              "      <td>City of Dublin, CA</td>\n",
              "      <td>Yes</td>\n",
              "    </tr>\n",
              "  </tbody>\n",
              "</table>\n",
              "<p>350 rows × 6 columns</p>\n",
              "</div>"
            ],
            "text/plain": [
              "      address_city state  ...            City Org  Sustainability Project Collab.\n",
              "0         New York    NY  ...       New York City                             Yes\n",
              "1          Calgary    AB  ...     City of Calgary                             Yes\n",
              "2          Toronto    ON  ...     City of Toronto                             Yes\n",
              "3         San Jose    CA  ...                 NaN                     No Response\n",
              "4          Chicago    IL  ...     City of Chicago                             Yes\n",
              "..             ...   ...  ...                 ...                             ...\n",
              "345      Johnstown    PA  ...                 NaN                     No Response\n",
              "346       Rosemont    IL  ...                 NaN                     No Response\n",
              "347  Bowling Green    KY  ...                 NaN                     No Response\n",
              "348      Rochester    NY  ...   City of Rochester                             Yes\n",
              "349         Dublin    CA  ...  City of Dublin, CA                             Yes\n",
              "\n",
              "[350 rows x 6 columns]"
            ]
          },
          "metadata": {
            "tags": []
          },
          "execution_count": 44
        }
      ]
    },
    {
      "cell_type": "markdown",
      "metadata": {
        "id": "WC3W5N9_38Rh"
      },
      "source": [
        "Plot cities containing the hightest proportion of organizations disclosing to CDP.\n",
        "\n",
        "- Hightlight number of disclosing organization with HQ in the city\n",
        "- Highlight the city's response to question 6.2 as bar colour."
      ]
    },
    {
      "cell_type": "code",
      "metadata": {
        "id": "TSgQIY8k35V1",
        "outputId": "05da9c89-34ff-4f32-ed65-22051c107671",
        "colab": {
          "base_uri": "https://localhost:8080/",
          "height": 626
        }
      },
      "source": [
        "cities_count_50 = cities_count.iloc[0:40,:]\n",
        "plt.figure(figsize=(15,8))\n",
        "ax = sns.barplot(\n",
        "    x=\"city_state\",\n",
        "    y=\"num_orgs\",\n",
        "    hue=\"Sustainability Project Collab.\",\n",
        "    data=cities_count_50,\n",
        "    palette=\"OrRd_r\"\n",
        ")\n",
        "\n",
        "plt.xticks(\n",
        "    rotation=45,\n",
        "    horizontalalignment='right',\n",
        "    fontweight='light',\n",
        "    fontsize='medium'\n",
        ")"
      ],
      "execution_count": 45,
      "outputs": [
        {
          "output_type": "execute_result",
          "data": {
            "text/plain": [
              "(array([ 0,  1,  2,  3,  4,  5,  6,  7,  8,  9, 10, 11, 12, 13, 14, 15, 16,\n",
              "        17, 18, 19, 20, 21, 22, 23, 24, 25, 26, 27, 28, 29, 30, 31, 32, 33,\n",
              "        34, 35, 36, 37]), <a list of 38 Text major ticklabel objects>)"
            ]
          },
          "metadata": {
            "tags": []
          },
          "execution_count": 45
        },
        {
          "output_type": "display_data",
          "data": {
            "image/png": "[encoded data removed]",
            "text/plain": [
              "<Figure size 1080x576 with 1 Axes>"
            ]
          },
          "metadata": {
            "tags": [],
            "needs_background": "light"
          }
        }
      ]
    }
  ]
}