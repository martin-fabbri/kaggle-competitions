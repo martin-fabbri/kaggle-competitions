{
  "nbformat": 4,
  "nbformat_minor": 0,
  "metadata": {
    "colab": {
      "name": "1-kaggle-cdp-eda.ipynb",
      "provenance": [],
      "collapsed_sections": [],
      "authorship_tag": "ABX9TyO6LtkglBc/OlHNEvHpTXv0",
      "include_colab_link": true
    },
    "kernelspec": {
      "name": "python3",
      "display_name": "Python 3"
    }
  },
  "cells": [
    {
      "cell_type": "markdown",
      "metadata": {
        "id": "view-in-github",
        "colab_type": "text"
      },
      "source": [
        "<a href=\"https://colab.research.google.com/github/martin-fabbri/kaggle-competitions/blob/main/cdp-unlocking-climate-solutions/1_kaggle_cdp_eda.ipynb\" target=\"_parent\"><img src=\"https://colab.research.google.com/assets/colab-badge.svg\" alt=\"Open In Colab\"/></a>"
      ]
    },
    {
      "cell_type": "markdown",
      "metadata": {
        "id": "hAFRPyu8KlQM"
      },
      "source": [
        "## Imports"
      ]
    },
    {
      "cell_type": "markdown",
      "metadata": {
        "id": "rM1MNdrsNGIy"
      },
      "source": [
        "Install Basemap"
      ]
    },
    {
      "cell_type": "code",
      "metadata": {
        "id": "ACJSzC34MCYA",
        "outputId": "8de8305e-35ad-4940-a209-0fb1e47171ae",
        "colab": {
          "base_uri": "https://localhost:8080/",
          "height": 958
        }
      },
      "source": [
        "!apt-get install libgeos-3.5.0\n",
        "!apt-get install libgeos-dev\n",
        "!pip install https://github.com/matplotlib/basemap/archive/master.zip"
      ],
      "execution_count": 1,
      "outputs": [
        {
          "output_type": "stream",
          "text": [
            "Reading package lists... Done\n",
            "Building dependency tree       \n",
            "Reading state information... Done\n",
            "E: Unable to locate package libgeos-3.5.0\n",
            "E: Couldn't find any package by glob 'libgeos-3.5.0'\n",
            "E: Couldn't find any package by regex 'libgeos-3.5.0'\n",
            "Reading package lists... Done\n",
            "Building dependency tree       \n",
            "Reading state information... Done\n",
            "Suggested packages:\n",
            "  libgdal-doc\n",
            "The following NEW packages will be installed:\n",
            "  libgeos-dev\n",
            "0 upgraded, 1 newly installed, 0 to remove and 6 not upgraded.\n",
            "Need to get 73.1 kB of archives.\n",
            "After this operation, 486 kB of additional disk space will be used.\n",
            "Get:1 http://archive.ubuntu.com/ubuntu bionic/universe amd64 libgeos-dev amd64 3.6.2-1build2 [73.1 kB]\n",
            "Fetched 73.1 kB in 1s (113 kB/s)\n",
            "Selecting previously unselected package libgeos-dev.\n",
            "(Reading database ... 144617 files and directories currently installed.)\n",
            "Preparing to unpack .../libgeos-dev_3.6.2-1build2_amd64.deb ...\n",
            "Unpacking libgeos-dev (3.6.2-1build2) ...\n",
            "Setting up libgeos-dev (3.6.2-1build2) ...\n",
            "Processing triggers for man-db (2.8.3-2ubuntu0.1) ...\n",
            "Collecting https://github.com/matplotlib/basemap/archive/master.zip\n",
            "\u001b[?25l  Downloading https://github.com/matplotlib/basemap/archive/master.zip\n",
            "\u001b[K     \\ 210.5MB 95.5MB/s\n",
            "\u001b[?25hRequirement already satisfied: matplotlib!=3.0.1,>=1.0.0 in /usr/local/lib/python3.6/dist-packages (from basemap==1.2.1) (3.2.2)\n",
            "Requirement already satisfied: numpy>=1.2.1 in /usr/local/lib/python3.6/dist-packages (from basemap==1.2.1) (1.18.5)\n",
            "Collecting pyproj>=1.9.3\n",
            "\u001b[?25l  Downloading https://files.pythonhosted.org/packages/e5/c3/071e080230ac4b6c64f1a2e2f9161c9737a2bc7b683d2c90b024825000c0/pyproj-2.6.1.post1-cp36-cp36m-manylinux2010_x86_64.whl (10.9MB)\n",
            "\u001b[K     |████████████████████████████████| 10.9MB 4.9MB/s \n",
            "\u001b[?25hCollecting pyshp>=1.2.0\n",
            "\u001b[?25l  Downloading https://files.pythonhosted.org/packages/ca/1f/e9cc2c3fce32e2926581f8b6905831165235464c858ba550b6e9b8ef78c3/pyshp-2.1.2.tar.gz (217kB)\n",
            "\u001b[K     |████████████████████████████████| 225kB 42.5MB/s \n",
            "\u001b[?25hRequirement already satisfied: six in /usr/local/lib/python3.6/dist-packages (from basemap==1.2.1) (1.15.0)\n",
            "Requirement already satisfied: pyparsing!=2.0.4,!=2.1.2,!=2.1.6,>=2.0.1 in /usr/local/lib/python3.6/dist-packages (from matplotlib!=3.0.1,>=1.0.0->basemap==1.2.1) (2.4.7)\n",
            "Requirement already satisfied: python-dateutil>=2.1 in /usr/local/lib/python3.6/dist-packages (from matplotlib!=3.0.1,>=1.0.0->basemap==1.2.1) (2.8.1)\n",
            "Requirement already satisfied: kiwisolver>=1.0.1 in /usr/local/lib/python3.6/dist-packages (from matplotlib!=3.0.1,>=1.0.0->basemap==1.2.1) (1.2.0)\n",
            "Requirement already satisfied: cycler>=0.10 in /usr/local/lib/python3.6/dist-packages (from matplotlib!=3.0.1,>=1.0.0->basemap==1.2.1) (0.10.0)\n",
            "Building wheels for collected packages: basemap, pyshp\n",
            "  Building wheel for basemap (setup.py) ... \u001b[?25l\u001b[?25hdone\n",
            "  Created wheel for basemap: filename=basemap-1.2.1-cp36-cp36m-linux_x86_64.whl size=121756171 sha256=e2898267964ba338d048518eddfdc1d712cdc321752ff203140ac59f1a973008\n",
            "  Stored in directory: /tmp/pip-ephem-wheel-cache-c_o1443_/wheels/98/4a/fc/ce719b75d97e646645c225f3332b1b217536100314922e9572\n",
            "  Building wheel for pyshp (setup.py) ... \u001b[?25l\u001b[?25hdone\n",
            "  Created wheel for pyshp: filename=pyshp-2.1.2-cp36-none-any.whl size=36216 sha256=a749c97d13563199180ab76800ec7e0af6524dc6af660b5a54eee0162c93d481\n",
            "  Stored in directory: /root/.cache/pip/wheels/96/6c/53/4112475adf3b831da97f083163d0f38ee6daac9c1b13f7afea\n",
            "Successfully built basemap pyshp\n",
            "Installing collected packages: pyproj, pyshp, basemap\n",
            "Successfully installed basemap-1.2.1 pyproj-2.6.1.post1 pyshp-2.1.2\n"
          ],
          "name": "stdout"
        },
        {
          "output_type": "display_data",
          "data": {
            "application/vnd.colab-display-data+json": {
              "pip_warning": {
                "packages": [
                  "mpl_toolkits"
                ]
              }
            }
          },
          "metadata": {
            "tags": []
          }
        }
      ]
    },
    {
      "cell_type": "markdown",
      "metadata": {
        "id": "C_c1bli4NLYV"
      },
      "source": [
        "Install geopandas"
      ]
    },
    {
      "cell_type": "code",
      "metadata": {
        "id": "mwauIbwdNZGv",
        "outputId": "968308e8-e2a7-4036-dc1a-ab3a045f71d2",
        "colab": {
          "base_uri": "https://localhost:8080/",
          "height": 421
        }
      },
      "source": [
        "!pip install --upgrade geopandas"
      ],
      "execution_count": 1,
      "outputs": [
        {
          "output_type": "stream",
          "text": [
            "Collecting geopandas\n",
            "\u001b[?25l  Downloading https://files.pythonhosted.org/packages/f7/a4/e66aafbefcbb717813bf3a355c8c4fc3ed04ea1dd7feb2920f2f4f868921/geopandas-0.8.1-py2.py3-none-any.whl (962kB)\n",
            "\u001b[K     |████████████████████████████████| 972kB 4.0MB/s \n",
            "\u001b[?25hRequirement already satisfied, skipping upgrade: pandas>=0.23.0 in /usr/local/lib/python3.6/dist-packages (from geopandas) (1.1.2)\n",
            "Requirement already satisfied, skipping upgrade: shapely in /usr/local/lib/python3.6/dist-packages (from geopandas) (1.7.1)\n",
            "Requirement already satisfied, skipping upgrade: pyproj>=2.2.0 in /usr/local/lib/python3.6/dist-packages (from geopandas) (2.6.1.post1)\n",
            "Collecting fiona\n",
            "\u001b[?25l  Downloading https://files.pythonhosted.org/packages/36/8b/e8b2c11bed5373c8e98edb85ce891b09aa1f4210fd451d0fb3696b7695a2/Fiona-1.8.17-cp36-cp36m-manylinux1_x86_64.whl (14.8MB)\n",
            "\u001b[K     |████████████████████████████████| 14.8MB 260kB/s \n",
            "\u001b[?25hRequirement already satisfied, skipping upgrade: python-dateutil>=2.7.3 in /usr/local/lib/python3.6/dist-packages (from pandas>=0.23.0->geopandas) (2.8.1)\n",
            "Requirement already satisfied, skipping upgrade: numpy>=1.15.4 in /usr/local/lib/python3.6/dist-packages (from pandas>=0.23.0->geopandas) (1.18.5)\n",
            "Requirement already satisfied, skipping upgrade: pytz>=2017.2 in /usr/local/lib/python3.6/dist-packages (from pandas>=0.23.0->geopandas) (2018.9)\n",
            "Requirement already satisfied, skipping upgrade: click<8,>=4.0 in /usr/local/lib/python3.6/dist-packages (from fiona->geopandas) (7.1.2)\n",
            "Collecting click-plugins>=1.0\n",
            "  Downloading https://files.pythonhosted.org/packages/e9/da/824b92d9942f4e472702488857914bdd50f73021efea15b4cad9aca8ecef/click_plugins-1.1.1-py2.py3-none-any.whl\n",
            "Collecting munch\n",
            "  Downloading https://files.pythonhosted.org/packages/cc/ab/85d8da5c9a45e072301beb37ad7f833cd344e04c817d97e0cc75681d248f/munch-2.5.0-py2.py3-none-any.whl\n",
            "Collecting cligj>=0.5\n",
            "  Downloading https://files.pythonhosted.org/packages/e4/be/30a58b4b0733850280d01f8bd132591b4668ed5c7046761098d665ac2174/cligj-0.5.0-py3-none-any.whl\n",
            "Requirement already satisfied, skipping upgrade: six>=1.7 in /usr/local/lib/python3.6/dist-packages (from fiona->geopandas) (1.15.0)\n",
            "Requirement already satisfied, skipping upgrade: attrs>=17 in /usr/local/lib/python3.6/dist-packages (from fiona->geopandas) (20.2.0)\n",
            "Installing collected packages: click-plugins, munch, cligj, fiona, geopandas\n",
            "Successfully installed click-plugins-1.1.1 cligj-0.5.0 fiona-1.8.17 geopandas-0.8.1 munch-2.5.0\n"
          ],
          "name": "stdout"
        }
      ]
    },
    {
      "cell_type": "code",
      "metadata": {
        "id": "5jNQnAhoIb5I",
        "outputId": "a5285b2c-dbec-4db1-c404-31b8a8984111",
        "colab": {
          "base_uri": "https://localhost:8080/",
          "height": 33
        }
      },
      "source": [
        "# data processing libs\n",
        "import os\n",
        "import pandas as pd\n",
        "import numpy as np\n",
        "import matplotlib.pyplot as plt\n",
        "import re\n",
        "import json\n",
        "\n",
        "# plotting libs\n",
        "import seaborn as sns\n",
        "import plotly.graph_objects as go\n",
        "import plotly.express as px\n",
        "\n",
        "# set inline plotly\n",
        "from plotly.offline import init_notebook_mode;\n",
        "init_notebook_mode(connected=True)\n",
        "\n",
        "# geospatial libs\n",
        "from mpl_toolkits.basemap import Basemap\n",
        "from shapely.geometry import Polygon\n",
        "import geopandas as gpd\n",
        "import folium\n",
        "print(f'geopandas: {gpd.__version__}')\n"
      ],
      "execution_count": 3,
      "outputs": [
        {
          "output_type": "display_data",
          "data": {
            "text/html": [
              "        <script type=\"text/javascript\">\n",
              "        window.PlotlyConfig = {MathJaxConfig: 'local'};\n",
              "        if (window.MathJax) {MathJax.Hub.Config({SVG: {font: \"STIX-Web\"}});}\n",
              "        if (typeof require !== 'undefined') {\n",
              "        require.undef(\"plotly\");\n",
              "        requirejs.config({\n",
              "            paths: {\n",
              "                'plotly': ['https://cdn.plot.ly/plotly-latest.min']\n",
              "            }\n",
              "        });\n",
              "        require(['plotly'], function(Plotly) {\n",
              "            window._Plotly = Plotly;\n",
              "        });\n",
              "        }\n",
              "        </script>\n",
              "        "
            ]
          },
          "metadata": {
            "tags": []
          }
        },
        {
          "output_type": "stream",
          "text": [
            "geopandas: 0.8.1\n"
          ],
          "name": "stdout"
        }
      ]
    },
    {
      "cell_type": "markdown",
      "metadata": {
        "id": "W3nCn_klO3wu"
      },
      "source": [
        "## Data\n",
        "\n",
        "### Import Data"
      ]
    },
    {
      "cell_type": "code",
      "metadata": {
        "id": "PjpjnNVcRMv5",
        "outputId": "e3654793-a39b-49c3-d13b-bd6634f8e367",
        "colab": {
          "base_uri": "https://localhost:8080/",
          "height": 1000
        }
      },
      "source": [
        "!pip install --upgrade --force-reinstall --no-deps kaggle\n",
        "from google.colab import drive\n",
        "drive.mount('/content/gdrive')\n",
        "!mkdir -p ~/.kaggle\n",
        "!cp /content/gdrive/My\\ Drive/kaggle/kaggle.json ~/.kaggle/kaggle.json\n",
        "!chmod 600 ~/.kaggle/kaggle.json\n",
        "!kaggle competitions download -c cdp-unlocking-climate-solutions\n",
        "!ls -l /content\n",
        "!unzip -o /content/cdp-unlocking-climate-solutions.zip"
      ],
      "execution_count": 4,
      "outputs": [
        {
          "output_type": "stream",
          "text": [
            "Collecting kaggle\n",
            "\u001b[?25l  Downloading https://files.pythonhosted.org/packages/fc/14/9db40d8d6230655e76fa12166006f952da4697c003610022683c514cf15f/kaggle-1.5.8.tar.gz (59kB)\n",
            "\r\u001b[K     |█████▌                          | 10kB 13.6MB/s eta 0:00:01\r\u001b[K     |███████████                     | 20kB 2.9MB/s eta 0:00:01\r\u001b[K     |████████████████▋               | 30kB 3.4MB/s eta 0:00:01\r\u001b[K     |██████████████████████▏         | 40kB 3.8MB/s eta 0:00:01\r\u001b[K     |███████████████████████████▊    | 51kB 3.3MB/s eta 0:00:01\r\u001b[K     |████████████████████████████████| 61kB 2.5MB/s \n",
            "\u001b[?25hBuilding wheels for collected packages: kaggle\n",
            "  Building wheel for kaggle (setup.py) ... \u001b[?25l\u001b[?25hdone\n",
            "  Created wheel for kaggle: filename=kaggle-1.5.8-cp36-none-any.whl size=73275 sha256=9c7987886763d3891ffe32a05dd6da4450fb06a3a3d5cf9823e0fa666f0e520e\n",
            "  Stored in directory: /root/.cache/pip/wheels/94/a7/09/68dc83c7c14fdbdf5d3f2b2da5b87e587bfc1e85df69b1130c\n",
            "Successfully built kaggle\n",
            "Installing collected packages: kaggle\n",
            "  Found existing installation: kaggle 1.5.8\n",
            "    Uninstalling kaggle-1.5.8:\n",
            "      Successfully uninstalled kaggle-1.5.8\n",
            "Successfully installed kaggle-1.5.8\n",
            "Mounted at /content/gdrive\n",
            "Downloading cdp-unlocking-climate-solutions.zip to /content\n",
            " 98% 241M/245M [00:05<00:00, 37.7MB/s]\n",
            "100% 245M/245M [00:05<00:00, 43.0MB/s]\n",
            "total 251116\n",
            "-rw-r--r-- 1 root root 257130814 Oct 15 03:36 cdp-unlocking-climate-solutions.zip\n",
            "drwx------ 5 root root      4096 Oct 15 03:36 gdrive\n",
            "drwxr-xr-x 1 root root      4096 Oct  5 16:31 sample_data\n",
            "Archive:  /content/cdp-unlocking-climate-solutions.zip\n",
            "  inflating: Cities/Cities Disclosing/2018_Cities_Disclosing_to_CDP.csv  \n",
            "  inflating: Cities/Cities Disclosing/2019_Cities_Disclosing_to_CDP.csv  \n",
            "  inflating: Cities/Cities Disclosing/2020_Cities_Disclosing_to_CDP.csv  \n",
            "  inflating: Cities/Cities Disclosing/Cities_Disclosing_to_CDP_Data_Dictionary.csv  \n",
            "  inflating: Cities/Cities Questionnaires/2018_Cities_Questionnaire.pdf  \n",
            "  inflating: Cities/Cities Questionnaires/2019_Cities_Questionnaire.pdf  \n",
            "  inflating: Cities/Cities Questionnaires/2020_Cities_Questionnaire.pdf  \n",
            "  inflating: Cities/Cities Responses/2018_Full_Cities_Dataset.csv  \n",
            "  inflating: Cities/Cities Responses/2019_Full_Cities_Dataset.csv  \n",
            "  inflating: Cities/Cities Responses/2020_Full_Cities_Dataset.csv  \n",
            "  inflating: Cities/Cities Responses/Full_Cities_Response_Data_Dictionary.csv  \n",
            "  inflating: Corporations/Corporations Disclosing/Climate Change/2018_Corporates_Disclosing_to_CDP_Climate_Change.csv  \n",
            "  inflating: Corporations/Corporations Disclosing/Climate Change/2019_Corporates_Disclosing_to_CDP_Climate_Change.csv  \n",
            "  inflating: Corporations/Corporations Disclosing/Climate Change/2020_Corporates_Disclosing_to_CDP_Climate_Change.csv  \n",
            "  inflating: Corporations/Corporations Disclosing/Climate Change/Corporations_Disclosing_to_CDP_Data_Dictionary.csv  \n",
            "  inflating: Corporations/Corporations Disclosing/Water Security/2018_Corporates_Disclosing_to_CDP_Water_Security.csv  \n",
            "  inflating: Corporations/Corporations Disclosing/Water Security/2019_Corporates_Disclosing_to_CDP_Water_Security.csv  \n",
            "  inflating: Corporations/Corporations Disclosing/Water Security/2020_Corporates_Disclosing_to_CDP_Water_Security.csv  \n",
            "  inflating: Corporations/Corporations Disclosing/Water Security/Corporations_Disclosing_to_CDP_Data_Dictionary.csv  \n",
            "  inflating: Corporations/Corporations Questionnaires/Climate Change/2018_Climate_Change_Questionnaire.pdf  \n",
            "  inflating: Corporations/Corporations Questionnaires/Climate Change/2019_Climate_Change_Questionnaire.pdf  \n",
            "  inflating: Corporations/Corporations Questionnaires/Climate Change/2020_Climate_Change_Questionnaire.pdf  \n",
            "  inflating: Corporations/Corporations Questionnaires/Climate Change/CDP-climate-change-changes-document.pdf  \n",
            "  inflating: Corporations/Corporations Questionnaires/Water Security/2018_Water_Security_Questionnaire.pdf  \n",
            "  inflating: Corporations/Corporations Questionnaires/Water Security/2019_Water_Security_Questionnaire.pdf  \n",
            "  inflating: Corporations/Corporations Questionnaires/Water Security/2020_Water_Security_Questionnaire.pdf  \n",
            "  inflating: Corporations/Corporations Questionnaires/Water Security/CDP-water-changes-document.pdf  \n",
            "  inflating: Corporations/Corporations Responses/Climate Change/2018_Full_Climate_Change_Dataset.csv  \n",
            "  inflating: Corporations/Corporations Responses/Climate Change/2019_Full_Climate_Change_Dataset.csv  \n",
            "  inflating: Corporations/Corporations Responses/Climate Change/2020_Full_Climate_Change_Dataset.csv  \n",
            "  inflating: Corporations/Corporations Responses/Climate Change/Full_Corporations_Response_Data_Dictionary copy.csv  \n",
            "  inflating: Corporations/Corporations Responses/Water Security/2018_Full_Water_Security_Dataset.csv  \n",
            "  inflating: Corporations/Corporations Responses/Water Security/2019_Full_Water_Security_Dataset.csv  \n",
            "  inflating: Corporations/Corporations Responses/Water Security/2020_Full_Water_Security_Dataset.csv  \n",
            "  inflating: Corporations/Corporations Responses/Water Security/Full_Corporations_Response_Data_Dictionary.csv  \n",
            "  inflating: Supplementary Data/CDC 500 Cities Census Tract Data/500_Cities__Census_Tract-level_Data__GIS_Friendly_Format___2019_release.csv  \n",
            "  inflating: Supplementary Data/CDC Social Vulnerability Index 2018/SVI2018_US.csv  \n",
            "  inflating: Supplementary Data/CDC Social Vulnerability Index 2018/SVI2018_US_COUNTY.csv  \n",
            "  inflating: Supplementary Data/Dataset Licenses/CDP_dataset_licenses.txt  \n",
            "  inflating: Supplementary Data/Dataset Licenses/Supplementary_dataset_licenses.txt  \n",
            "  inflating: Supplementary Data/Locations of Corporations/NA_HQ_public_data.csv  \n",
            "  inflating: Supplementary Data/NYC CDP Census Tract Shapefiles/nyu_2451_34505.dbf  \n",
            "  inflating: Supplementary Data/NYC CDP Census Tract Shapefiles/nyu_2451_34505.prj  \n",
            "  inflating: Supplementary Data/NYC CDP Census Tract Shapefiles/nyu_2451_34505.shp  \n",
            "  inflating: Supplementary Data/NYC CDP Census Tract Shapefiles/nyu_2451_34505.shx  \n",
            "  inflating: Supplementary Data/NYC CDP Census Tract Shapefiles/nyu_2451_34505_iso.xml  \n",
            "  inflating: Supplementary Data/Recommendations from CDP/CDP_recommendations_for_questions_to_focus_on.xlsx  \n",
            "  inflating: Supplementary Data/Recommendations from CDP/CDP_recommendations_for_supplementary_datasets_to_include.xlsx  \n",
            "  inflating: Supplementary Data/Simple Maps US Cities Data/uscities.csv  \n"
          ],
          "name": "stdout"
        }
      ]
    },
    {
      "cell_type": "code",
      "metadata": {
        "id": "HI1wOWydO3I4",
        "outputId": "7f199bd7-b7da-4038-c631-2898415eaa03",
        "colab": {
          "base_uri": "https://localhost:8080/",
          "height": 84
        }
      },
      "source": [
        "# import corporate response data\n",
        "cc_df = pd.read_csv('/content/Corporations/Corporations Responses/Climate Change/2019_Full_Climate_Change_Dataset.csv')\n",
        "ws_df = pd.read_csv('/content/Corporations/Corporations Responses/Water Security/2019_Full_Water_Security_Dataset.csv')"
      ],
      "execution_count": 6,
      "outputs": [
        {
          "output_type": "stream",
          "text": [
            "/usr/local/lib/python3.6/dist-packages/IPython/core/interactiveshell.py:2718: DtypeWarning:\n",
            "\n",
            "Columns (19) have mixed types.Specify dtype option on import or set low_memory=False.\n",
            "\n"
          ],
          "name": "stderr"
        }
      ]
    },
    {
      "cell_type": "code",
      "metadata": {
        "id": "QPtgT0yGWcHK"
      },
      "source": [
        "# import cities response df\n",
        "cities_df = pd.read_csv(\"/content/Cities/Cities Responses/2020_Full_Cities_Dataset.csv\")"
      ],
      "execution_count": 7,
      "outputs": []
    },
    {
      "cell_type": "code",
      "metadata": {
        "id": "5ryD9iTpWcNN"
      },
      "source": [
        "# external data - import CDC social vulnerability index data - census\n",
        "svi_df = pd.read_csv(\"/content/Supplementary Data/CDC Social Vulnerability Index 2018/SVI2018_US.csv\")"
      ],
      "execution_count": 8,
      "outputs": []
    },
    {
      "cell_type": "code",
      "metadata": {
        "id": "rMT48h7ZWcKQ"
      },
      "source": [
        "# cities metadata - lat,lon locations for US cities\n",
        "cities_meta_df = pd.read_csv(\"/content/Supplementary Data/Simple Maps US Cities Data/uscities.csv\")\n",
        "\n",
        "# cities metadata - CDP metadata on organisation HQ cities\n",
        "cities_cdpmeta_df = pd.read_csv(\"/content/Supplementary Data/Locations of Corporations/NA_HQ_public_data.csv\")"
      ],
      "execution_count": 10,
      "outputs": []
    },
    {
      "cell_type": "markdown",
      "metadata": {
        "id": "ROE0f77wYMO4"
      },
      "source": [
        "### Helpers"
      ]
    },
    {
      "cell_type": "code",
      "metadata": {
        "id": "Oy9ndKo0Wb6F"
      },
      "source": [
        "def list_dedupe(x):\n",
        "  \"\"\"\n",
        "  Convert list to dict and back to list to dedupe\n",
        "\n",
        "  Parameters\n",
        "  ----------\n",
        "  x: list\n",
        "      Python list object\n",
        "\n",
        "  Returns\n",
        "  -------\n",
        "  dictionary:\n",
        "    dictionary object with duplicated removed\n",
        "  \"\"\"\n",
        "  return list(dict.fromkeys(x))\n"
      ],
      "execution_count": 11,
      "outputs": []
    },
    {
      "cell_type": "code",
      "metadata": {
        "id": "ZUxW2TM7Y28X"
      },
      "source": [
        ""
      ],
      "execution_count": null,
      "outputs": []
    },
    {
      "cell_type": "code",
      "metadata": {
        "id": "kgPbrFdhY3Ci"
      },
      "source": [
        ""
      ],
      "execution_count": null,
      "outputs": []
    },
    {
      "cell_type": "code",
      "metadata": {
        "id": "LZ9oJkoxY3Fz"
      },
      "source": [
        ""
      ],
      "execution_count": null,
      "outputs": []
    },
    {
      "cell_type": "code",
      "metadata": {
        "id": "NOBA2m_4Y2_t"
      },
      "source": [
        ""
      ],
      "execution_count": null,
      "outputs": []
    },
    {
      "cell_type": "code",
      "metadata": {
        "id": "VmD8NvCqY25i"
      },
      "source": [
        ""
      ],
      "execution_count": null,
      "outputs": []
    }
  ]
}